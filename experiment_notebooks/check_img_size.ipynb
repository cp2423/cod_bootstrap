{
 "cells": [
  {
   "cell_type": "code",
   "execution_count": 12,
   "metadata": {},
   "outputs": [],
   "source": [
    "import cv2\n",
    "import numpy as np\n",
    "from numpy import ndarray\n",
    "from matplotlib import pyplot as plt\n",
    "\n",
    "plt.rcParams['figure.figsize'] = [16, 16]\n",
    "\n",
    "# path to local images\n",
    "IMAGE_PARENT_FOLDER = \"/Users/chris/Dev/cod_records/aws/extracted/\"\n",
    "IMAGE_TEST_FOLDER = IMAGE_PARENT_FOLDER + \"31829_B016711/\""
   ]
  },
  {
   "cell_type": "code",
   "execution_count": 20,
   "metadata": {},
   "outputs": [
    {
     "name": "stdout",
     "output_type": "stream",
     "text": [
      "(array([ 596,  599,  600,  604,  605,  606,  607,  608,  609,  610,  611,\n",
      "        612,  613,  614,  615,  616,  617,  618,  619,  620,  621,  622,\n",
      "        623,  624,  625,  626,  627,  628,  629,  630,  631,  632,  633,\n",
      "        634,  635,  636,  637,  638,  639,  640,  641,  642,  643,  644,\n",
      "        646,  647,  648,  652,  653,  656,  657,  658,  659,  660,  661,\n",
      "        662,  663,  664,  665,  666,  667,  668,  669,  671,  672,  673,\n",
      "        674,  675,  676,  677,  678,  679,  680,  681,  682,  683,  684,\n",
      "        685,  686,  687,  688,  689,  690,  691,  692,  693,  694,  695,\n",
      "        696,  697,  698,  699,  700,  701,  702,  703,  704,  705,  706,\n",
      "        707,  708,  709,  710,  711,  712,  713,  714,  715,  716,  717,\n",
      "        718,  719,  720,  721,  722,  723,  724,  725,  726,  727,  728,\n",
      "        729,  730,  731,  732,  733,  734,  735,  736,  737,  738,  739,\n",
      "        740,  741,  744,  746,  747,  748,  750,  751,  752,  753,  756,\n",
      "        757,  758,  765,  766,  767,  772,  775,  778,  782,  788,  791,\n",
      "        793,  794,  799,  803,  804,  809,  811,  816,  817,  819,  821,\n",
      "        824,  828,  830,  831,  832,  834,  836,  840,  849,  857,  860,\n",
      "        867,  872,  873,  875,  876,  894,  901,  907,  910,  941,  942,\n",
      "        944,  945,  950,  953,  954,  961, 1029, 1034, 1041, 1042, 1044,\n",
      "       1049, 1069, 1083, 1139, 1145, 1147, 1170, 1179, 1526, 1533, 1543,\n",
      "       1605, 1609, 1672, 1681, 1682, 1712, 1721, 1764, 1773, 1781, 1798,\n",
      "       1804, 1831, 1847, 1849, 1890, 1893, 1894, 1912, 1915, 1945, 1995,\n",
      "       2011, 2021, 2056, 2061, 2071, 2087, 2096, 2099, 2136, 2175, 2189,\n",
      "       2201, 2361, 2425, 2548, 2567, 2603, 2634, 2808, 2972, 3021, 3207,\n",
      "       3711, 3836]), array([    2,     1,     1,     1,     4,     1,     3,    14,    34,\n",
      "          35,    19,    25,    24,    96,  3540, 14662, 37978, 11750,\n",
      "        3389,   492,   131,    86,    70,    39,    30,    28,    49,\n",
      "          60,    58,    41,    30,    48,    19,    13,    13,    15,\n",
      "           9,    10,     9,     6,     2,     6,     1,     3,     7,\n",
      "           3,     2,     1,     1,     1,     1,     1,     2,     3,\n",
      "           1,     2,     4,     5,     6,     1,     5,     8,     3,\n",
      "           4,     3,     1,     2,     4,     6,     1,     9,    10,\n",
      "          11,     3,     9,     8,    10,    10,     7,    20,    19,\n",
      "          23,    15,    35,    11,    20,    12,    17,     8,    33,\n",
      "          11,     9,     9,     7,    11,    21,    21,     7,     9,\n",
      "          11,     5,    19,    22,     7,    15,     8,     2,     4,\n",
      "           2,     7,     4,     2,     3,     5,     3,     5,     3,\n",
      "           4,     5,     4,     4,     7,     2,     3,    13,     2,\n",
      "           5,     1,     6,     2,     6,     1,     3,     3,     1,\n",
      "           2,     4,     2,     1,     1,     3,     1,     2,     3,\n",
      "           1,     1,     1,     1,     1,     2,     3,     2,     1,\n",
      "           2,     1,     2,     2,     2,     1,     1,     1,     1,\n",
      "           1,     1,     1,     1,     2,     1,     1,     2,     1,\n",
      "           1,     2,     1,     2,     3,     1,     2,     2,     2,\n",
      "           1,     1,     1,     2,     1,     1,     1,     1,     3,\n",
      "           1,     2,     1,     2,     2,     1,     1,     1,     1,\n",
      "           2,     2,     2,     2,     1,     2,     1,     2,     1,\n",
      "           1,     1,     1,     1,     1,     1,     1,     1,     1,\n",
      "           1,     1,     1,     1,     1,     1,     2,     2,     1,\n",
      "           1,     1,     2,     1,     1,     1,     1,     1,     1,\n",
      "           1,     1,     1,     1,     1,     1,     1,     1,     1,\n",
      "           1,     2,     1,     1,     1,     1,     2,     1,     1,\n",
      "           2,     1,     1]))\n"
     ]
    }
   ],
   "source": [
    "import os\n",
    "\n",
    "shapes  = []\n",
    "folders = [x for x in os.scandir(IMAGE_PARENT_FOLDER) if x.is_dir()]\n",
    "\n",
    "for folder in folders:\n",
    "    for fp in os.scandir(folder):\n",
    "        img = cv2.imread(fp)\n",
    "        shapes.append(img.shape[0])\n",
    "\n",
    "counts = np.unique(shapes, return_counts=True)\n",
    "print(counts)"
   ]
  },
  {
   "cell_type": "code",
   "execution_count": 30,
   "metadata": {},
   "outputs": [
    {
     "name": "stdout",
     "output_type": "stream",
     "text": [
      "[    2     1     1     1     4     1     3    14    34    35    19    25\n",
      "    24    96  3540 14662 37978 11750  3389   492   131    86    70    39\n",
      "    30    28    49    60    58    41    30    48    19    13    13    15\n",
      "     9    10     9     6]\n"
     ]
    }
   ],
   "source": [
    "print(counts[1][:40])"
   ]
  },
  {
   "cell_type": "code",
   "execution_count": 32,
   "metadata": {},
   "outputs": [
    {
     "name": "stdout",
     "output_type": "stream",
     "text": [
      "73684\n"
     ]
    }
   ],
   "source": [
    "print(np.sum(counts[1]))"
   ]
  },
  {
   "cell_type": "code",
   "execution_count": 39,
   "metadata": {},
   "outputs": [
    {
     "data": {
      "text/plain": [
       "np.float64(0.9679034797242277)"
      ]
     },
     "execution_count": 39,
     "metadata": {},
     "output_type": "execute_result"
    }
   ],
   "source": [
    "np.sum(counts[1][14:19]) / np.sum(counts[1])"
   ]
  },
  {
   "cell_type": "code",
   "execution_count": 40,
   "metadata": {},
   "outputs": [
    {
     "data": {
      "text/plain": [
       "array([615, 616, 617, 618, 619])"
      ]
     },
     "execution_count": 40,
     "metadata": {},
     "output_type": "execute_result"
    }
   ],
   "source": [
    "counts[0][14:19]"
   ]
  },
  {
   "cell_type": "code",
   "execution_count": 41,
   "metadata": {},
   "outputs": [
    {
     "name": "stdout",
     "output_type": "stream",
     "text": [
      "(array([1200]), array([73684]))\n"
     ]
    }
   ],
   "source": [
    "import os\n",
    "\n",
    "widths  = []\n",
    "folders = [x for x in os.scandir(IMAGE_PARENT_FOLDER) if x.is_dir()]\n",
    "\n",
    "for folder in folders:\n",
    "    for fp in os.scandir(folder):\n",
    "        img = cv2.imread(fp)\n",
    "        widths.append(img.shape[1])\n",
    "\n",
    "w_counts = np.unique(widths, return_counts=True)\n",
    "print(w_counts)"
   ]
  }
 ],
 "metadata": {
  "kernelspec": {
   "display_name": ".venv",
   "language": "python",
   "name": "python3"
  },
  "language_info": {
   "codemirror_mode": {
    "name": "ipython",
    "version": 3
   },
   "file_extension": ".py",
   "mimetype": "text/x-python",
   "name": "python",
   "nbconvert_exporter": "python",
   "pygments_lexer": "ipython3",
   "version": "3.13.0"
  }
 },
 "nbformat": 4,
 "nbformat_minor": 2
}
